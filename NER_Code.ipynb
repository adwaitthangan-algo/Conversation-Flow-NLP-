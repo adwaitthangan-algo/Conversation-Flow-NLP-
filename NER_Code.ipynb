{
 "cells": [
  {
   "cell_type": "code",
   "execution_count": 179,
   "metadata": {
    "id": "enIOTr8y6hf9"
   },
   "outputs": [],
   "source": [
    "# !python -m spacy download en_core_web_sm\n",
    "# !python -m spacy download en_core_web_md\n",
    "# !python -m spacy download en_core_web_lg"
   ]
  },
  {
   "cell_type": "code",
   "execution_count": 180,
   "metadata": {
    "colab": {
     "base_uri": "https://localhost:8080/"
    },
    "id": "GGlQY8Ro2hw6",
    "outputId": "ff0fe75c-6a0c-4260-9e99-ee08bcf8a6e4"
   },
   "outputs": [
    {
     "data": {
      "text/plain": [
       "<spacy.lang.en.English at 0x1f109ddf190>"
      ]
     },
     "execution_count": 180,
     "metadata": {},
     "output_type": "execute_result"
    }
   ],
   "source": [
    "import spacy\n",
    "nlp = spacy.load(\"en_core_web_lg\")\n",
    "nlp"
   ]
  },
  {
   "cell_type": "code",
   "execution_count": 181,
   "metadata": {
    "id": "uGingzbmvgnL"
   },
   "outputs": [],
   "source": [
    "doc = nlp(\"Bring me a plate of Coffee and three glasses of vada pav\")"
   ]
  },
  {
   "cell_type": "code",
   "execution_count": 182,
   "metadata": {
    "colab": {
     "base_uri": "https://localhost:8080/"
    },
    "id": "OFPOI7gY-ha4",
    "outputId": "b5177348-0e91-4344-ba8d-bf6161f07d3f"
   },
   "outputs": [
    {
     "data": {
      "text/plain": [
       "Bring me a plate of Coffee and three glasses of vada pav"
      ]
     },
     "execution_count": 182,
     "metadata": {},
     "output_type": "execute_result"
    }
   ],
   "source": [
    "doc"
   ]
  },
  {
   "cell_type": "code",
   "execution_count": 183,
   "metadata": {
    "colab": {
     "base_uri": "https://localhost:8080/"
    },
    "id": "NWrodKDk-jwc",
    "outputId": "4ece91e5-4ce1-49e3-8f62-fc55602c9a62"
   },
   "outputs": [
    {
     "data": {
      "text/plain": [
       "spacy.tokens.doc.Doc"
      ]
     },
     "execution_count": 183,
     "metadata": {},
     "output_type": "execute_result"
    }
   ],
   "source": [
    "type(doc)"
   ]
  },
  {
   "cell_type": "code",
   "execution_count": 184,
   "metadata": {},
   "outputs": [
    {
     "data": {
      "text/plain": [
       "(Coffee, three, vada pav)"
      ]
     },
     "execution_count": 184,
     "metadata": {},
     "output_type": "execute_result"
    }
   ],
   "source": [
    "doc.ents"
   ]
  },
  {
   "cell_type": "code",
   "execution_count": 185,
   "metadata": {
    "colab": {
     "base_uri": "https://localhost:8080/"
    },
    "id": "y7WS3fl38D_0",
    "outputId": "fdf602f3-6db8-43f3-fef8-254f9a103a69"
   },
   "outputs": [
    {
     "data": {
      "text/plain": [
       "'ORG'"
      ]
     },
     "execution_count": 185,
     "metadata": {},
     "output_type": "execute_result"
    }
   ],
   "source": [
    "doc.ents[2].label_"
   ]
  },
  {
   "cell_type": "code",
   "execution_count": 186,
   "metadata": {
    "colab": {
     "base_uri": "https://localhost:8080/"
    },
    "id": "AovSOSmKvlz9",
    "outputId": "2f8d3d7a-4cdb-4e0b-ce92-34cbac8673a6"
   },
   "outputs": [
    {
     "data": {
      "text/plain": [
       "(Coffee, spacy.tokens.span.Span)"
      ]
     },
     "execution_count": 186,
     "metadata": {},
     "output_type": "execute_result"
    }
   ],
   "source": [
    "\n",
    "doc.ents[0], type(doc.ents[0])"
   ]
  },
  {
   "cell_type": "code",
   "execution_count": 187,
   "metadata": {
    "colab": {
     "base_uri": "https://localhost:8080/",
     "height": 52
    },
    "id": "5ou7-MtW8gXW",
    "outputId": "270927a3-227e-4c79-b2a9-d0550abdc77f"
   },
   "outputs": [
    {
     "data": {
      "text/html": [
       "<span class=\"tex2jax_ignore\"><div class=\"entities\" style=\"line-height: 2.5; direction: ltr\">Bring me a plate of \n",
       "<mark class=\"entity\" style=\"background: #7aecec; padding: 0.45em 0.6em; margin: 0 0.25em; line-height: 1; border-radius: 0.35em;\">\n",
       "    Coffee\n",
       "    <span style=\"font-size: 0.8em; font-weight: bold; line-height: 1; border-radius: 0.35em; vertical-align: middle; margin-left: 0.5rem\">ORG</span>\n",
       "</mark>\n",
       " and \n",
       "<mark class=\"entity\" style=\"background: #e4e7d2; padding: 0.45em 0.6em; margin: 0 0.25em; line-height: 1; border-radius: 0.35em;\">\n",
       "    three\n",
       "    <span style=\"font-size: 0.8em; font-weight: bold; line-height: 1; border-radius: 0.35em; vertical-align: middle; margin-left: 0.5rem\">CARDINAL</span>\n",
       "</mark>\n",
       " glasses of \n",
       "<mark class=\"entity\" style=\"background: #7aecec; padding: 0.45em 0.6em; margin: 0 0.25em; line-height: 1; border-radius: 0.35em;\">\n",
       "    vada pav\n",
       "    <span style=\"font-size: 0.8em; font-weight: bold; line-height: 1; border-radius: 0.35em; vertical-align: middle; margin-left: 0.5rem\">ORG</span>\n",
       "</mark>\n",
       "</div></span>"
      ],
      "text/plain": [
       "<IPython.core.display.HTML object>"
      ]
     },
     "metadata": {},
     "output_type": "display_data"
    }
   ],
   "source": [
    "from spacy import displacy\n",
    "displacy.render(doc, style=\"ent\", jupyter=True)"
   ]
  },
  {
   "cell_type": "code",
   "execution_count": 188,
   "metadata": {},
   "outputs": [
    {
     "data": {
      "text/plain": [
       "'Companies, agencies, institutions, etc.'"
      ]
     },
     "execution_count": 188,
     "metadata": {},
     "output_type": "execute_result"
    }
   ],
   "source": [
    "spacy.explain(\"ORG\")"
   ]
  },
  {
   "cell_type": "code",
   "execution_count": 189,
   "metadata": {},
   "outputs": [],
   "source": [
    "datast = {}\n"
   ]
  },
  {
   "cell_type": "code",
   "execution_count": 190,
   "metadata": {},
   "outputs": [],
   "source": [
    "training_data = [\"I'd like 2 large pizzas, please.\",\n",
    "\"Can I have 3 cheeseburgers?\",\n",
    "\"I want 4 orders of fries.\",\n",
    "\"Give me 1 veggie burger.\",\n",
    "\"I'll take 5 chicken wings.\",\n",
    "\"Can I order 2 salads?\",\n",
    "\"I'd like 6 sushi rolls.\",\n",
    "\"Please get me 3 tacos.\",\n",
    "\"I want 1 pasta dish.\",\n",
    "\"Give me 4 hot dogs.\",\n",
    "\"I'll have 2 bowls of soup.\",\n",
    "\"I'd like 1 order of nachos.\",\n",
    "\"Can I get 3 chocolate shakes?\",\n",
    "\"I want 5 slices of cake.\",\n",
    "\"Give me 2 chicken sandwiches.\",\n",
    "\"I'll take 6 donuts.\",\n",
    "\"Can I have 4 egg rolls?\",\n",
    "\"I'd like 2 orders of spring rolls.\",\n",
    "\"Please get me 1 steak.\",\n",
    "\"I want 3 glasses of orange juice.\",\n",
    "\"Give me 5 ice cream cones.\",\n",
    "\"I'll have 1 order of garlic bread.\",\n",
    "\"I'd like 2 cups of coffee.\",\n",
    "\"Can I get 3 grilled cheese sandwiches?\",\n",
    "\"I want 4 bottles of water.\",\n",
    "\"Give me 2 servings of mac and cheese.\",\n",
    "\"I'll take 6 pieces of sushi.\",\n",
    "\"Can I have 5 bowls of rice?\",\n",
    "\"I'd like 3 portions of spaghetti.\",\n",
    "\"Please get me 1 Caesar salad.\",\n",
    "\"I want 4 croissants.\",\n",
    "\"Give me 2 burritos.\",\n",
    "\"I'll have 1 pancake stack.\",\n",
    "\"I'd like 3 orders of dumplings.\",\n",
    "\"Can I get 6 mozzarella sticks?\",\n",
    "\"I want 5 bowls of cereal.\",\n",
    "\"Give me 1 order of shrimp cocktail.\",\n",
    "\"I'll take 4 orders of chicken nuggets.\",\n",
    "\"Can I have 2 bagels?\",\n",
    "\"I'd like 3 chocolate chip cookies.\",\n",
    "\"Please get me 1 bottle of soda.\",\n",
    "\"I want 4 turkey sandwiches.\",\n",
    "\"Give me 2 orders of fish and chips.\",\n",
    "\"I'll have 5 cups of tea.\",\n",
    "\"I'd like 6 muffins.\",\n",
    "\"Can I get 1 order of lasagna?\",\n",
    "\"I want 3 pieces of fried chicken.\",\n",
    "\"Give me 4 bowls of chili.\",\n",
    "\"I'll take 2 milkshakes.\",\n",
    "\"Can I have 1 order of onion rings?\",\n",
    "\n",
    "\"I'd like to cancel my order.\",\n",
    "\"Please cancel my order.\",\n",
    "\"Cancel my order, please.\",\n",
    "\"I need to cancel my food order.\",\n",
    "\"Can I cancel my order?\",\n",
    "\"Could you cancel my order?\",\n",
    "\"Cancel my order ASAP.\",\n",
    "\"I'd like to cancel my recent order.\",\n",
    "\"Please cancel my latest order.\",\n",
    "\"Cancel the order I just placed.\",\n",
    "\"I want to cancel my current order.\",\n",
    "\"Can you cancel my food order?\",\n",
    "\"Cancel my current order.\",\n",
    "\"I need to cancel the order I just made.\",\n",
    "\"Please cancel the order I placed.\",\n",
    "\"I'd like to cancel the food order I made.\",\n",
    "\"Can you please cancel my order?\",\n",
    "\"Please cancel my latest food order.\",\n",
    "\"I want to cancel the order I just submitted.\",\n",
    "\"Can you cancel the order I placed recently?\",\n",
    "\"Cancel the order I just submitted.\",\n",
    "\"I'd like to cancel the food order I placed.\",\n",
    "\"Please cancel the order I just made.\",\n",
    "\"I need to cancel my recent food order.\",\n",
    "\"Cancel the order I just made, please.\",\n",
    "\"Can you cancel my last order?\",\n",
    "\"Please cancel my recent order.\",\n",
    "\"I want to cancel my last order.\",\n",
    "\"Cancel the food order I just placed.\",\n",
    "\"Can you cancel my latest order?\",\n",
    "\"I'd like to cancel the last order I placed.\",\n",
    "\"Please cancel the food order I just submitted.\",\n",
    "\"I need to cancel my latest order.\",\n",
    "\"Cancel my food order now.\",\n",
    "\"Can you cancel the order I just submitted?\",\n",
    "\"Please cancel my current food order.\",\n",
    "\"I want to cancel the order I made.\",\n",
    "\"Cancel the recent order I placed.\",\n",
    "\"I'd like to cancel the order I submitted.\",\n",
    "\"Can you cancel the food order I placed?\",\n",
    "\"Please cancel the last order I made.\",\n",
    "\"I need to cancel my current order.\",\n",
    "\"Cancel the latest order I made.\",\n",
    "\"Can you cancel the recent order I placed?\",\n",
    "\"Please cancel the order I recently made.\",\n",
    "\"I want to cancel the latest order I placed.\",\n",
    "\"Cancel the order I placed recently.\",\n",
    "\"I'd like to cancel the order I just made.\",\n",
    "\"Can you cancel my recent food order?\",\n",
    "\"Please cancel the order I just placed.\",\n",
    "\n",
    "\"Can I see the menu?\",\n",
    "\"Show me the menu, please.\",\n",
    "\"I'd like to see the menu.\",\n",
    "\"What's on the menu today?\",\n",
    "\"Can you display the menu?\",\n",
    "\"I'd like to look at the menu.\",\n",
    "\"May I see the menu?\",\n",
    "\"Please show me the menu.\",\n",
    "\"What do you have on the menu?\",\n",
    "\"Could you show me the menu?\",\n",
    "\"I'd like to check out the menu.\",\n",
    "\"What's available on the menu?\",\n",
    "\"Can you provide the menu?\",\n",
    "\"I'd like to view the menu.\",\n",
    "\"Show me the food menu.\",\n",
    "\"Do you have a menu I can see?\",\n",
    "\"Please display the menu for me.\",\n",
    "\"I'd like to know what's on the menu.\",\n",
    "\"Could you display the menu?\",\n",
    "\"Can you show me the restaurant menu?\",\n",
    "\"What’s on your menu?\",\n",
    "\"Show me what's on the menu.\",\n",
    "\"I'd like to browse the menu.\",\n",
    "\"Is there a menu I can see?\",\n",
    "\"What’s on the food menu?\",\n",
    "\"Can I check the menu?\",\n",
    "\"Could you show me your menu?\",\n",
    "\"Can I look at the menu?\",\n",
    "\"I'd like to see what’s on the menu.\",\n",
    "\"Please show me the restaurant menu.\",\n",
    "\"Can you display the food menu?\",\n",
    "\"May I view the menu?\",\n",
    "\"What’s available to eat?\",\n",
    "\"Can you bring up the menu?\",\n",
    "\"I'd like to see the dining options.\",\n",
    "\"Show me the dishes available.\",\n",
    "\"What do you serve?\",\n",
    "\"What are the menu options?\",\n",
    "\"Show me today’s menu.\",\n",
    "\"Can I see the list of dishes?\",\n",
    "\"What's on the menu for today?\",\n",
    "\"Can you show me the meal options?\",\n",
    "\"I'd like to see the list of meals.\",\n",
    "\"Please show me the available dishes.\",\n",
    "\"What dishes do you have?\",\n",
    "\"Show me the food options.\",\n",
    "\"What’s on your dining menu?\",\n",
    "\"I'd like to see the meal menu.\",\n",
    "\"Could you show me the dining menu?\",\n",
    "\"What can I order from the menu?\",\n",
    "\n",
    "\"My food is cold.\",\n",
    "\"The order is wrong.\",\n",
    "\"I waited too long for my meal.\",\n",
    "\"The food quality is poor.\",\n",
    "\"My dish is undercooked.\",\n",
    "\"The portion size is too small.\",\n",
    "\"The service is slow.\",\n",
    "\"I found a hair in my food.\",\n",
    "\"The staff was rude.\",\n",
    "\"The food is too salty.\",\n",
    "\"My drink is watered down.\",\n",
    "\"The restaurant is too noisy.\",\n",
    "\"The table is dirty.\",\n",
    "\"The food is overpriced.\",\n",
    "\"I didn't receive my full order.\",\n",
    "\"My food is overcooked.\",\n",
    "\"The restaurant is too crowded.\",\n",
    "\"The bathroom is dirty.\",\n",
    "\"The waiter ignored us.\",\n",
    "\"The menu is confusing.\",\n",
    "\"The food took too long to arrive.\",\n",
    "\"The dish is too spicy.\",\n",
    "\"I have an allergy, and my food was cross-contaminated.\",\n",
    "\"The online order was messed up.\",\n",
    "\"The restaurant ran out of my favorite dish.\",\n",
    "\"I want to complain about my order.\",\n",
    "\"My food arrived cold.\",\n",
    "\"The delivery was late.\",\n",
    "\"I received the wrong order.\",\n",
    "\"The food quality was poor.\",\n",
    "\"I found hair in my food.\",\n",
    "\"My order was missing items.\",\n",
    "\"The portion size was too small.\",\n",
    "\"The packaging was damaged.\",\n",
    "\"The food was undercooked.\",\n",
    "\"The food was overcooked.\",\n",
    "\"I received a damaged item.\",\n",
    "\"The taste was not good.\",\n",
    "\"My drink was spilled.\",\n",
    "\"The food was stale.\",\n",
    "\"The food had a strange smell.\",\n",
    "\"I got food poisoning.\",\n",
    "\"The order was incomplete.\",\n",
    "\"The food was too spicy.\",\n",
    "\"The food was too salty.\",\n",
    "\"The food was bland.\",\n",
    "\"The sauce was missing.\",\n",
    "\"The bread was hard.\",\n",
    "\"I waited too long for my food.\",\n",
    "\"The dessert was melted.\"\n",
    "]"
   ]
  },
  {
   "cell_type": "code",
   "execution_count": 191,
   "metadata": {
    "colab": {
     "base_uri": "https://localhost:8080/",
     "height": 182
    },
    "id": "oOvb8JZI3doC",
    "outputId": "3ccd930d-a1d4-4f28-d3c6-6f957ec6414c"
   },
   "outputs": [
    {
     "data": {
      "text/plain": [
       "'Give me 1 veggie burger.'"
      ]
     },
     "execution_count": 191,
     "metadata": {},
     "output_type": "execute_result"
    }
   ],
   "source": [
    "training_data[3]"
   ]
  },
  {
   "cell_type": "code",
   "execution_count": 192,
   "metadata": {
    "colab": {
     "base_uri": "https://localhost:8080/",
     "height": 36
    },
    "id": "vWYU8pQ83zmg",
    "outputId": "83456a72-e098-46f8-d2f8-b574c5cf74ed"
   },
   "outputs": [
    {
     "data": {
      "text/plain": [
       "'large pizzas'"
      ]
     },
     "execution_count": 192,
     "metadata": {},
     "output_type": "execute_result"
    }
   ],
   "source": [
    "training_data[0][11:23]"
   ]
  },
  {
   "cell_type": "code",
   "execution_count": 193,
   "metadata": {},
   "outputs": [],
   "source": [
    "import re\n",
    "\n",
    "def get_entity_indexes(text, entity):\n",
    "    \"\"\"\n",
    "    Find the start and end index of an entity in the text.\n",
    "    \n",
    "    :param text: The text where the entity is located\n",
    "    :param entity: The entity to find\n",
    "    :return: A tuple of (start_index, end_index)\n",
    "    \"\"\"\n",
    "    # Use regex to find the entity in the text\n",
    "    match = re.search(re.escape(entity), text)\n",
    "    if match:\n",
    "        start = match.start()\n",
    "        end = match.end()\n",
    "        return (start, end)\n",
    "    else:\n",
    "        return None\n",
    "\n",
    "def get_entities_with_indexes(train_data):\n",
    "    \"\"\"\n",
    "    Get indexes of all entities in the train_data.\n",
    "    \n",
    "    :param train_data: List of dictionaries with 'text' and 'entities'\n",
    "    :return: List of dictionaries with 'text' and 'entities' with indexes\n",
    "    \"\"\"\n",
    "    updated_data = []\n",
    "    \n",
    "    for item in train_data:\n",
    "        text = item['text']\n",
    "        entities = item['entities']\n",
    "        \n",
    "        entity_indexes = []\n",
    "        for entity, label in entities:\n",
    "            indexes = get_entity_indexes(text, entity)\n",
    "            if indexes:\n",
    "                entity_indexes.append((indexes[0], indexes[1], label))\n",
    "        \n",
    "        updated_data.append({'text': text, 'entities': entity_indexes})\n",
    "    \n",
    "    return updated_data"
   ]
  },
  {
   "cell_type": "code",
   "execution_count": 194,
   "metadata": {},
   "outputs": [],
   "source": [
    "train_data = [ \n",
    "    {\n",
    "        'text': \"I'd like 2 large pizzas, please.\",\n",
    "        'entities': [\n",
    "            ('2', 'Quantity'),\n",
    "            ('pizzas', 'Food'),\n",
    "            ('large', 'Type')\n",
    "        ]\n",
    "    },\n",
    "    {\n",
    "        'text': \"Can I have 3 cheeseburgers?\",\n",
    "        'entities': [\n",
    "            ('3', 'Quantity'),\n",
    "            ('cheeseburgers', 'Food')\n",
    "        ]\n",
    "    },\n",
    "    {\n",
    "        'text': \"I want 4 orders of fries.\",\n",
    "        'entities': [\n",
    "            ('4', 'Quantity'),\n",
    "            ('fries', 'Food')\n",
    "        ]\n",
    "    },\n",
    "    {\n",
    "        'text': \"Give me 1 veggie burger.\",\n",
    "        'entities': [\n",
    "            ('1', 'Quantity'),\n",
    "            ('burger', 'Food'),\n",
    "            ('veggie', 'Type')\n",
    "        ]\n",
    "    },\n",
    "    {\n",
    "        'text': \"I'll take 5 chicken wings.\",\n",
    "        'entities': [\n",
    "            ('5', 'Quantity'),\n",
    "            ('chicken wings', 'Food')\n",
    "        ]\n",
    "    },\n",
    "    {\n",
    "        'text': \"Can I order 2 salads?\",\n",
    "        'entities': [\n",
    "            ('2', 'Quantity'),\n",
    "            ('salads', 'Food')\n",
    "        ]\n",
    "    },\n",
    "    {\n",
    "        'text': \"I'd like 6 sushi rolls.\",\n",
    "        'entities': [\n",
    "            ('6', 'Quantity'),\n",
    "            ('sushi rolls', 'Food')\n",
    "        ]\n",
    "    },\n",
    "    {\n",
    "        'text': \"Please get me 3 tacos.\",\n",
    "        'entities': [\n",
    "            ('3', 'Quantity'),\n",
    "            ('tacos', 'Food')\n",
    "        ]\n",
    "    },\n",
    "\n",
    "    {\n",
    "        'text': \"I want 1 pasta dish.\",\n",
    "        'entities': [('1', 'Quantity'), ('pasta', 'Food')]\n",
    "    },\n",
    "    {\n",
    "        'text': \"Give me 4 hot dogs.\",\n",
    "        'entities': [('4', 'Quantity'), ('hot dogs', 'Food')]\n",
    "    },\n",
    "    {\n",
    "        'text': \"I'll have 2 bowls of soup.\",\n",
    "        'entities': [('2', 'Quantity'), ('soup', 'Food')]\n",
    "    },\n",
    "    {\n",
    "        'text': \"I'd like 1 order of nachos.\",\n",
    "        'entities': [('1', 'Quantity'), ('nachos', 'Food')]\n",
    "    },\n",
    "    {\n",
    "        'text': \"Can I get 3 chocolate shakes?\",\n",
    "        'entities': [('3', 'Quantity'), ('chocolate shakes', 'Food')]\n",
    "    },\n",
    "    {\n",
    "        'text': \"I want 5 slices of cake.\",\n",
    "        'entities': [('5', 'Quantity'), ('cake', 'Food')]\n",
    "    },\n",
    "    {\n",
    "        'text': \"Give me 2 chicken sandwiches.\",\n",
    "        'entities': [('2', 'Quantity'), ('chicken sandwiches', 'Food')]\n",
    "    },\n",
    "    {\n",
    "        'text': \"I'll take 6 donuts.\",\n",
    "        'entities': [('6', 'Quantity'), ('donuts', 'Food')]\n",
    "    },\n",
    "    {\n",
    "        'text': \"Can I have 4 egg rolls?\",\n",
    "        'entities': [('4', 'Quantity'), ('egg rolls', 'Food')]\n",
    "    },\n",
    "    {\n",
    "        'text': \"I'd like 2 orders of spring rolls.\",\n",
    "        'entities': [('2', 'Quantity'), ('spring rolls', 'Food')]\n",
    "    },\n",
    "    {\n",
    "        'text': \"Please get me 1 steak.\",\n",
    "        'entities': [('1', 'Quantity'), ('steak', 'Food')]\n",
    "    },\n",
    "    {'text': 'I want 3 glasses of orange juice.', 'entities': [('3', 'Quantity'), ('orange juice', 'Food')]},\n",
    "    \n",
    "    {'text': 'Give me 5 ice cream cones.', 'entities': [('5', 'Quantity'), ('ice cream', 'Food'), ('cones', 'Type')]},\n",
    "    \n",
    "    {'text': 'I\\'ll have 1 order of garlic bread.', 'entities': [('1', 'Quantity'), ('garlic bread', 'Food')]},\n",
    "    \n",
    "    {'text': 'I\\'d like 2 cups of coffee.', 'entities': [('2', 'Quantity'), ('coffee', 'Food')]},\n",
    "    \n",
    "    {'text': 'Can I get 3 grilled cheese sandwiches?', 'entities': [('3', 'Quantity'), ('grilled cheese', 'Type'), ('sandwiches', 'Food')]},\n",
    "    \n",
    "    {'text': 'I want 4 bottles of water.', 'entities': [('4', 'Quantity'), ('water', 'Food')]},\n",
    "    \n",
    "    {'text': 'Give me 2 servings of mac and cheese.', 'entities': [('2', 'Quantity'), ('mac and cheese', 'Food')]},\n",
    "    \n",
    "    {'text': 'I\\'ll take 6 pieces of sushi.', 'entities': [('6', 'Quantity'), ('sushi', 'Food')]},\n",
    "    \n",
    "    {'text': 'Can I have 5 bowls of rice?', 'entities': [('5', 'Quantity'), ('rice', 'Food')]},\n",
    "    \n",
    "    {'text': 'I\\'d like 3 portions of spaghetti.', 'entities': [('3', 'Quantity'), ('spaghetti', 'Food')]},\n",
    "    \n",
    "    {'text': 'Please get me 1 Caesar salad.', 'entities': [('1', 'Quantity'), ('Caesar', 'Type'), ('salad', 'Food')]},\n",
    "    \n",
    "    {'text': 'I want 4 croissants.', 'entities': [('4', 'Quantity'), ('croissants', 'Food')]},\n",
    "    \n",
    "    {'text': 'Give me 2 burritos.', 'entities': [('2', 'Quantity'), ('burritos', 'Food')]},\n",
    "    \n",
    "    {'text': 'I\\'ll have 1 pancake stack.', 'entities': [('1', 'Quantity'), ('pancake', 'Food'), ('stack', 'Type')]},\n",
    "    \n",
    "    {'text': 'I\\'d like 3 orders of dumplings.', 'entities': [('3', 'Quantity'), ('dumplings', 'Food')]},\n",
    "    \n",
    "    {'text': 'Can I get 6 mozzarella sticks?', 'entities': [('6', 'Quantity'), ('mozzarella sticks', 'Food')]},\n",
    "    \n",
    "    {'text': 'I want 5 bowls of cereal.', 'entities': [('5', 'Quantity'), ('cereal', 'Food')]},\n",
    "\n",
    "    {'text': \"Give me 1 order of shrimp cocktail.\",\n",
    "     'entities': [('1', 'Quantity'), ('shrimp cocktail', 'Food')]},\n",
    "    \n",
    "    {'text': \"I'll take 4 orders of chicken nuggets.\",\n",
    "     'entities': [('4', 'Quantity'), ('chicken nuggets', 'Food')]},\n",
    "    \n",
    "    {'text': \"Can I have 2 bagels?\",\n",
    "     'entities': [('2', 'Quantity'), ('bagels', 'Food')]},\n",
    "    \n",
    "    {'text': \"I'd like 3 chocolate chip cookies.\",\n",
    "     'entities': [('3', 'Quantity'), ('chocolate chip cookies', 'Food')]},\n",
    "    \n",
    "    {'text': \"Please get me 1 bottle of soda.\",\n",
    "     'entities': [('1', 'Quantity'), ('soda', 'Food'), ('bottle', 'Type')]},\n",
    "    \n",
    "    {'text': \"I want 4 turkey sandwiches.\",\n",
    "     'entities': [('4', 'Quantity'), ('turkey sandwiches', 'Food')]},\n",
    "    \n",
    "    {'text': \"Give me 2 orders of fish and chips.\",\n",
    "     'entities': [('2', 'Quantity'), ('fish', 'Food'), ('chips', 'Food')]},\n",
    "    \n",
    "    {'text': \"I'll have 5 cups of tea.\",\n",
    "     'entities': [('5', 'Quantity'), ('tea', 'Food')]},\n",
    "    \n",
    "    {'text': \"I'd like 6 muffins.\",\n",
    "     'entities': [('6', 'Quantity'), ('muffins', 'Food')]},\n",
    "    \n",
    "    {'text': \"Can I get 1 order of lasagna?\",\n",
    "     'entities': [('1', 'Quantity'), ('lasagna', 'Food')]},\n",
    "    \n",
    "    {'text': \"I want 3 pieces of fried chicken.\",\n",
    "     'entities': [('3', 'Quantity'), ('fried chicken', 'Food')]},\n",
    "    \n",
    "    {'text': \"Give me 4 bowls of chili.\",\n",
    "     'entities': [('4', 'Quantity'), ('chili', 'Food')]},\n",
    "    \n",
    "    {'text': \"I'll take 2 milkshakes.\",\n",
    "     'entities': [('2', 'Quantity'), ('milkshakes', 'Food')]},\n",
    "    \n",
    "    {'text': \"Can I have 1 order of onion rings?\",\n",
    "     'entities': [('1', 'Quantity'), ('onion rings', 'Food')]},\n",
    "\n",
    "]"
   ]
  },
  {
   "cell_type": "code",
   "execution_count": 195,
   "metadata": {},
   "outputs": [
    {
     "data": {
      "text/plain": [
       "[{'text': \"I'd like 2 large pizzas, please.\",\n",
       "  'entities': [(9, 10, 'Quantity'), (17, 23, 'Food'), (11, 16, 'Type')]},\n",
       " {'text': 'Can I have 3 cheeseburgers?',\n",
       "  'entities': [(11, 12, 'Quantity'), (13, 26, 'Food')]},\n",
       " {'text': 'I want 4 orders of fries.',\n",
       "  'entities': [(7, 8, 'Quantity'), (19, 24, 'Food')]},\n",
       " {'text': 'Give me 1 veggie burger.',\n",
       "  'entities': [(8, 9, 'Quantity'), (17, 23, 'Food'), (10, 16, 'Type')]},\n",
       " {'text': \"I'll take 5 chicken wings.\",\n",
       "  'entities': [(10, 11, 'Quantity'), (12, 25, 'Food')]},\n",
       " {'text': 'Can I order 2 salads?',\n",
       "  'entities': [(12, 13, 'Quantity'), (14, 20, 'Food')]},\n",
       " {'text': \"I'd like 6 sushi rolls.\",\n",
       "  'entities': [(9, 10, 'Quantity'), (11, 22, 'Food')]},\n",
       " {'text': 'Please get me 3 tacos.',\n",
       "  'entities': [(14, 15, 'Quantity'), (16, 21, 'Food')]},\n",
       " {'text': 'I want 1 pasta dish.',\n",
       "  'entities': [(7, 8, 'Quantity'), (9, 14, 'Food')]},\n",
       " {'text': 'Give me 4 hot dogs.',\n",
       "  'entities': [(8, 9, 'Quantity'), (10, 18, 'Food')]},\n",
       " {'text': \"I'll have 2 bowls of soup.\",\n",
       "  'entities': [(10, 11, 'Quantity'), (21, 25, 'Food')]},\n",
       " {'text': \"I'd like 1 order of nachos.\",\n",
       "  'entities': [(9, 10, 'Quantity'), (20, 26, 'Food')]},\n",
       " {'text': 'Can I get 3 chocolate shakes?',\n",
       "  'entities': [(10, 11, 'Quantity'), (12, 28, 'Food')]},\n",
       " {'text': 'I want 5 slices of cake.',\n",
       "  'entities': [(7, 8, 'Quantity'), (19, 23, 'Food')]},\n",
       " {'text': 'Give me 2 chicken sandwiches.',\n",
       "  'entities': [(8, 9, 'Quantity'), (10, 28, 'Food')]},\n",
       " {'text': \"I'll take 6 donuts.\",\n",
       "  'entities': [(10, 11, 'Quantity'), (12, 18, 'Food')]},\n",
       " {'text': 'Can I have 4 egg rolls?',\n",
       "  'entities': [(11, 12, 'Quantity'), (13, 22, 'Food')]},\n",
       " {'text': \"I'd like 2 orders of spring rolls.\",\n",
       "  'entities': [(9, 10, 'Quantity'), (21, 33, 'Food')]},\n",
       " {'text': 'Please get me 1 steak.',\n",
       "  'entities': [(14, 15, 'Quantity'), (16, 21, 'Food')]},\n",
       " {'text': 'I want 3 glasses of orange juice.',\n",
       "  'entities': [(7, 8, 'Quantity'), (20, 32, 'Food')]},\n",
       " {'text': 'Give me 5 ice cream cones.',\n",
       "  'entities': [(8, 9, 'Quantity'), (10, 19, 'Food'), (20, 25, 'Type')]},\n",
       " {'text': \"I'll have 1 order of garlic bread.\",\n",
       "  'entities': [(10, 11, 'Quantity'), (21, 33, 'Food')]},\n",
       " {'text': \"I'd like 2 cups of coffee.\",\n",
       "  'entities': [(9, 10, 'Quantity'), (19, 25, 'Food')]},\n",
       " {'text': 'Can I get 3 grilled cheese sandwiches?',\n",
       "  'entities': [(10, 11, 'Quantity'), (12, 26, 'Type'), (27, 37, 'Food')]},\n",
       " {'text': 'I want 4 bottles of water.',\n",
       "  'entities': [(7, 8, 'Quantity'), (20, 25, 'Food')]},\n",
       " {'text': 'Give me 2 servings of mac and cheese.',\n",
       "  'entities': [(8, 9, 'Quantity'), (22, 36, 'Food')]},\n",
       " {'text': \"I'll take 6 pieces of sushi.\",\n",
       "  'entities': [(10, 11, 'Quantity'), (22, 27, 'Food')]},\n",
       " {'text': 'Can I have 5 bowls of rice?',\n",
       "  'entities': [(11, 12, 'Quantity'), (22, 26, 'Food')]},\n",
       " {'text': \"I'd like 3 portions of spaghetti.\",\n",
       "  'entities': [(9, 10, 'Quantity'), (23, 32, 'Food')]},\n",
       " {'text': 'Please get me 1 Caesar salad.',\n",
       "  'entities': [(14, 15, 'Quantity'), (16, 22, 'Type'), (23, 28, 'Food')]},\n",
       " {'text': 'I want 4 croissants.',\n",
       "  'entities': [(7, 8, 'Quantity'), (9, 19, 'Food')]},\n",
       " {'text': 'Give me 2 burritos.',\n",
       "  'entities': [(8, 9, 'Quantity'), (10, 18, 'Food')]},\n",
       " {'text': \"I'll have 1 pancake stack.\",\n",
       "  'entities': [(10, 11, 'Quantity'), (12, 19, 'Food'), (20, 25, 'Type')]},\n",
       " {'text': \"I'd like 3 orders of dumplings.\",\n",
       "  'entities': [(9, 10, 'Quantity'), (21, 30, 'Food')]},\n",
       " {'text': 'Can I get 6 mozzarella sticks?',\n",
       "  'entities': [(10, 11, 'Quantity'), (12, 29, 'Food')]},\n",
       " {'text': 'I want 5 bowls of cereal.',\n",
       "  'entities': [(7, 8, 'Quantity'), (18, 24, 'Food')]},\n",
       " {'text': 'Give me 1 order of shrimp cocktail.',\n",
       "  'entities': [(8, 9, 'Quantity'), (19, 34, 'Food')]},\n",
       " {'text': \"I'll take 4 orders of chicken nuggets.\",\n",
       "  'entities': [(10, 11, 'Quantity'), (22, 37, 'Food')]},\n",
       " {'text': 'Can I have 2 bagels?',\n",
       "  'entities': [(11, 12, 'Quantity'), (13, 19, 'Food')]},\n",
       " {'text': \"I'd like 3 chocolate chip cookies.\",\n",
       "  'entities': [(9, 10, 'Quantity'), (11, 33, 'Food')]},\n",
       " {'text': 'Please get me 1 bottle of soda.',\n",
       "  'entities': [(14, 15, 'Quantity'), (26, 30, 'Food'), (16, 22, 'Type')]},\n",
       " {'text': 'I want 4 turkey sandwiches.',\n",
       "  'entities': [(7, 8, 'Quantity'), (9, 26, 'Food')]},\n",
       " {'text': 'Give me 2 orders of fish and chips.',\n",
       "  'entities': [(8, 9, 'Quantity'), (20, 24, 'Food'), (29, 34, 'Food')]},\n",
       " {'text': \"I'll have 5 cups of tea.\",\n",
       "  'entities': [(10, 11, 'Quantity'), (20, 23, 'Food')]},\n",
       " {'text': \"I'd like 6 muffins.\",\n",
       "  'entities': [(9, 10, 'Quantity'), (11, 18, 'Food')]},\n",
       " {'text': 'Can I get 1 order of lasagna?',\n",
       "  'entities': [(10, 11, 'Quantity'), (21, 28, 'Food')]},\n",
       " {'text': 'I want 3 pieces of fried chicken.',\n",
       "  'entities': [(7, 8, 'Quantity'), (19, 32, 'Food')]},\n",
       " {'text': 'Give me 4 bowls of chili.',\n",
       "  'entities': [(8, 9, 'Quantity'), (19, 24, 'Food')]},\n",
       " {'text': \"I'll take 2 milkshakes.\",\n",
       "  'entities': [(10, 11, 'Quantity'), (12, 22, 'Food')]},\n",
       " {'text': 'Can I have 1 order of onion rings?',\n",
       "  'entities': [(11, 12, 'Quantity'), (22, 33, 'Food')]}]"
      ]
     },
     "execution_count": 195,
     "metadata": {},
     "output_type": "execute_result"
    }
   ],
   "source": [
    "# Get entities with indexes\n",
    "entities_with_indexes = get_entities_with_indexes(train_data)\n",
    "\n",
    "# Print the results\n",
    "# for item in entities_with_indexes:\n",
    "#     print(item)\n",
    "\n",
    "entities_with_indexes"
   ]
  },
  {
   "cell_type": "code",
   "execution_count": 196,
   "metadata": {},
   "outputs": [],
   "source": [
    "# train_data = [{'text': \"I'd like 2 large pizzas, please.\",\n",
    "#   'entities': [(9, 10, 'Quantity'),\n",
    "#    (11, 23, 'Food')]},\n",
    "#  {'text': \"Can I have 3 cheeseburgers?\",\n",
    "#   'entities': [(8, 12, 'Quantity'),\n",
    "#    (25, 39, 'Food'),\n",
    "#    (44, 45, 'Quantity'),\n",
    "#    (56, 63, 'Food')]},\n",
    "#  {'text': 'Can I have a single Dosa and three cups of Masala Chai?',\n",
    "#   'entities': [(13, 19, 'Quantity'),\n",
    "#    (20, 24, 'Food'),\n",
    "#    (29, 34, 'Quantity'),\n",
    "#    (43, 54, 'Food')]},\n",
    "#  {'text': 'Order two Samosas and a large Mango Lassi, please',\n",
    "#   'entities': [(6, 9, 'Quantity'),\n",
    "#    (10, 17, 'Food'),\n",
    "#    (24, 29, 'Quantity'),\n",
    "#    (30, 41, 'Food')]},\n",
    "#  {'text': \"I'll take four servings of Paneer Tikka and one Naan\",\n",
    "#   'entities': [(10, 14, 'Quantity'),\n",
    "#    (27, 39, 'Food'),\n",
    "#    (44, 47, 'Quantity'),\n",
    "#    (48, 52, 'Food')]},\n",
    "#  {'text': 'Bring me a plate of Pani Puri and three glasses of Thandai',\n",
    "#   'entities': [(20, 29, 'Food'), (34, 39, 'Quantity'), (51, 58, 'Food')]},\n",
    "#  {'text': 'I need six Idlis and two cups of Filter Coffee',\n",
    "#   'entities': [(7, 10, 'Quantity'),\n",
    "#    (11, 16, 'Food'),\n",
    "#    (21, 24, 'Quantity'),\n",
    "#    (33, 46, 'Food')]},\n",
    "#  {'text': 'Get me a bowl of Rajma Chawal and four Gulab Jamuns',\n",
    "#   'entities': [(17, 29, 'Food'), (34, 38, 'Quantity'), (39, 51, 'Food')]},\n",
    "#  {'text': \"I'm craving eight servings of Chicken Curry and a plate of Garlic Naan\",\n",
    "#   'entities': [(12, 17, 'Quantity'), (30, 43, 'Food'), (59, 70, 'Food')]},\n",
    "#  {'text': 'Serve me five pieces of Aloo Tikki and two glasses of Mango Lassi',\n",
    "#   'entities': [(9, 13, 'Quantity'),\n",
    "#    (24, 34, 'Food'),\n",
    "#    (39, 42, 'Quantity'),\n",
    "#    (54, 65, 'Food')]},\n",
    "#  {'text': 'I want a plate of Chicken Biryani and three servings of Raita',\n",
    "#   'entities': [(18, 33, 'Food'), (38, 43, 'Quantity'), (56, 61, 'Food')]},\n",
    "#  {'text': 'Order three Veg Momos and a cup of Masala Chai for me',\n",
    "#   'entities': [(6, 11, 'Quantity'), (12, 21, 'Food'), (35, 46, 'Food')]},\n",
    "#  {'text': 'Can I get two plates of Pav Bhaji and a Mango Shake?',\n",
    "#   'entities': [(10, 13, 'Quantity'), (24, 33, 'Food'), (40, 51, 'Food')]},\n",
    "#  {'text': 'Bring me a single serving of Fish Curry and a portion of Butter Naan',\n",
    "#   'entities': [(11, 17, 'Quantity'), (29, 39, 'Food'), (57, 68, 'Food')]},\n",
    "#  {'text': \"I'll have four pieces of Chicken 65 and two plates of Pulao\",\n",
    "#   'entities': [(10, 14, 'Quantity'),\n",
    "#    (25, 35, 'Food'),\n",
    "#    (40, 43, 'Quantity'),\n",
    "#    (54, 59, 'Food')]}]"
   ]
  },
  {
   "cell_type": "code",
   "execution_count": 197,
   "metadata": {},
   "outputs": [
    {
     "data": {
      "text/plain": [
       "[('1', 'Quantity'), ('burger', 'Food'), ('veggie', 'Type')]"
      ]
     },
     "execution_count": 197,
     "metadata": {},
     "output_type": "execute_result"
    }
   ],
   "source": [
    "train_data[3]['entities']"
   ]
  },
  {
   "cell_type": "code",
   "execution_count": 198,
   "metadata": {
    "id": "ZrbrxWEi3qLJ"
   },
   "outputs": [],
   "source": [
    "from spacy.tokens import DocBin\n",
    "from tqdm import tqdm\n",
    "\n",
    "nlp = spacy.blank(\"en\") # load a new spacy model\n",
    "doc_bin = DocBin()"
   ]
  },
  {
   "cell_type": "code",
   "execution_count": 200,
   "metadata": {
    "colab": {
     "base_uri": "https://localhost:8080/"
    },
    "id": "jBd4mdq039Ag",
    "outputId": "ef5f11c3-96c7-47f9-e6ed-9f7c46ad15d6"
   },
   "outputs": [
    {
     "name": "stderr",
     "output_type": "stream",
     "text": [
      "100%|██████████| 50/50 [00:00<00:00, 2777.68it/s]\n"
     ]
    }
   ],
   "source": [
    "from spacy.util import filter_spans\n",
    "\n",
    "for training_example in tqdm(entities_with_indexes):\n",
    "    text = training_example['text']\n",
    "    labels = training_example['entities']\n",
    "    doc = nlp.make_doc(text)\n",
    "    ents = []\n",
    "    for start, end, label in labels:\n",
    "        span = doc.char_span(start, end, label=label, alignment_mode=\"contract\")\n",
    "        if span is None:\n",
    "            print(\"Skipping entity\")\n",
    "        else:\n",
    "            ents.append(span)\n",
    "    filtered_ents = filter_spans(ents)\n",
    "    doc.ents = filtered_ents\n",
    "    doc_bin.add(doc)\n",
    "doc_bin.to_disk(\"train.spacy\")"
   ]
  },
  {
   "cell_type": "code",
   "execution_count": 201,
   "metadata": {
    "id": "0AqYeEoS4avo"
   },
   "outputs": [],
   "source": [
    "# https://spacy.io/usage/training#quickstart"
   ]
  },
  {
   "cell_type": "code",
   "execution_count": 202,
   "metadata": {
    "colab": {
     "base_uri": "https://localhost:8080/"
    },
    "id": "gyg-6DXU5Dhu",
    "outputId": "11985c14-3f6d-4d19-bbd0-201029a4f2b2"
   },
   "outputs": [
    {
     "name": "stdout",
     "output_type": "stream",
     "text": [
      "\u001b[38;5;2m✔ Auto-filled config with all values\u001b[0m\n",
      "\u001b[38;5;2m✔ Saved config\u001b[0m\n",
      "config.cfg\n",
      "You can now add your data and train your pipeline:\n",
      "python -m spacy train config.cfg --paths.train ./train.spacy --paths.dev ./dev.spacy\n"
     ]
    }
   ],
   "source": [
    "!python -m spacy init fill-config base_config.cfg config.cfg"
   ]
  },
  {
   "cell_type": "code",
   "execution_count": 203,
   "metadata": {
    "colab": {
     "base_uri": "https://localhost:8080/"
    },
    "id": "xwoa711K5GuG",
    "outputId": "acd35773-8c1f-4732-faa7-e626dcf3db8b"
   },
   "outputs": [
    {
     "name": "stdout",
     "output_type": "stream",
     "text": [
      "\u001b[38;5;4mℹ Saving to output directory: .\u001b[0m\n",
      "\u001b[38;5;4mℹ Using CPU\u001b[0m\n",
      "\u001b[1m\n",
      "=========================== Initializing pipeline ===========================\u001b[0m\n",
      "\u001b[38;5;2m✔ Initialized pipeline\u001b[0m\n",
      "\u001b[1m\n",
      "============================= Training pipeline =============================\u001b[0m\n",
      "\u001b[38;5;4mℹ Pipeline: ['tok2vec', 'ner']\u001b[0m\n",
      "\u001b[38;5;4mℹ Initial learn rate: 0.001\u001b[0m\n",
      "E    #       LOSS TOK2VEC  LOSS NER  ENTS_F  ENTS_P  ENTS_R  SCORE \n",
      "---  ------  ------------  --------  ------  ------  ------  ------\n",
      "  0       0          0.00     67.71    0.00    0.00    0.00    0.00\n",
      " 54     200          5.93    828.23  100.00  100.00  100.00    1.00\n",
      "121     400          0.00      0.00  100.00  100.00  100.00    1.00\n",
      "202     600          0.00      0.00  100.00  100.00  100.00    1.00\n",
      "302     800          0.00      0.00  100.00  100.00  100.00    1.00\n",
      "402    1000          0.00      0.00  100.00  100.00  100.00    1.00\n",
      "549    1200          0.00      0.00  100.00  100.00  100.00    1.00\n",
      "749    1400          0.00      0.00  100.00  100.00  100.00    1.00\n",
      "949    1600          0.00      0.00  100.00  100.00  100.00    1.00\n",
      "1149    1800          0.00      0.00  100.00  100.00  100.00    1.00\n",
      "\u001b[38;5;2m✔ Saved pipeline to output directory\u001b[0m\n",
      "model-last\n"
     ]
    }
   ],
   "source": [
    "!python -m spacy train config.cfg --output ./ --paths.train ./train.spacy --paths.dev ./train.spacy"
   ]
  },
  {
   "cell_type": "code",
   "execution_count": 204,
   "metadata": {
    "id": "uYfhbE013Hmh"
   },
   "outputs": [],
   "source": [
    "nlp_ner = spacy.load(\"model-best\")"
   ]
  },
  {
   "cell_type": "code",
   "execution_count": 213,
   "metadata": {
    "colab": {
     "base_uri": "https://localhost:8080/",
     "height": 157
    },
    "id": "Fm4S7YXEhvow",
    "outputId": "411028d2-528d-421a-bdee-5b7370cd2bec"
   },
   "outputs": [
    {
     "data": {
      "text/html": [
       "<span class=\"tex2jax_ignore\"><div class=\"entities\" style=\"line-height: 2.5; direction: ltr\">Can I have \n",
       "<mark class=\"entity\" style=\"background: #7DF6D9; padding: 0.45em 0.6em; margin: 0 0.25em; line-height: 1; border-radius: 0.35em;\">\n",
       "    two\n",
       "    <span style=\"font-size: 0.8em; font-weight: bold; line-height: 1; border-radius: 0.35em; vertical-align: middle; margin-left: 0.5rem\">Quantity</span>\n",
       "</mark>\n",
       " \n",
       "<mark class=\"entity\" style=\"background: #a6e22d; padding: 0.45em 0.6em; margin: 0 0.25em; line-height: 1; border-radius: 0.35em;\">\n",
       "    cheeseburgers\n",
       "    <span style=\"font-size: 0.8em; font-weight: bold; line-height: 1; border-radius: 0.35em; vertical-align: middle; margin-left: 0.5rem\">Food</span>\n",
       "</mark>\n",
       " and a side of \n",
       "<mark class=\"entity\" style=\"background: #a6e22d; padding: 0.45em 0.6em; margin: 0 0.25em; line-height: 1; border-radius: 0.35em;\">\n",
       "    fries\n",
       "    <span style=\"font-size: 0.8em; font-weight: bold; line-height: 1; border-radius: 0.35em; vertical-align: middle; margin-left: 0.5rem\">Food</span>\n",
       "</mark>\n",
       "?</div></span>"
      ],
      "text/plain": [
       "<IPython.core.display.HTML object>"
      ]
     },
     "metadata": {},
     "output_type": "display_data"
    }
   ],
   "source": [
    "doc = nlp_ner(\"Can I have two cheeseburgers and a side of fries?\")\n",
    "colors = {\"Quantity\": \"#7DF6D9\", \"Food\":\"#a6e22d\"}\n",
    "options = {\"colors\": colors}\n",
    "spacy.displacy.render(doc, style=\"ent\", options= options, jupyter=True)"
   ]
  },
  {
   "cell_type": "code",
   "execution_count": 214,
   "metadata": {},
   "outputs": [
    {
     "data": {
      "text/html": [
       "<span class=\"tex2jax_ignore\"><div class=\"entities\" style=\"line-height: 2.5; direction: ltr\">I'd like to order a \n",
       "<mark class=\"entity\" style=\"background: #ddd; padding: 0.45em 0.6em; margin: 0 0.25em; line-height: 1; border-radius: 0.35em;\">\n",
       "    pepperoni\n",
       "    <span style=\"font-size: 0.8em; font-weight: bold; line-height: 1; border-radius: 0.35em; vertical-align: middle; margin-left: 0.5rem\">Type</span>\n",
       "</mark>\n",
       " \n",
       "<mark class=\"entity\" style=\"background: #a6e22d; padding: 0.45em 0.6em; margin: 0 0.25em; line-height: 1; border-radius: 0.35em;\">\n",
       "    pizza\n",
       "    <span style=\"font-size: 0.8em; font-weight: bold; line-height: 1; border-radius: 0.35em; vertical-align: middle; margin-left: 0.5rem\">Food</span>\n",
       "</mark>\n",
       ".</div></span>"
      ],
      "text/plain": [
       "<IPython.core.display.HTML object>"
      ]
     },
     "metadata": {},
     "output_type": "display_data"
    }
   ],
   "source": [
    "doc = nlp_ner(\"I'd like to order a pepperoni pizza.\")\n",
    "colors = {\"Quantity\": \"#7DF6D9\", \"Food\":\"#a6e22d\"}\n",
    "options = {\"colors\": colors}\n",
    "spacy.displacy.render(doc, style=\"ent\", options= options, jupyter=True)"
   ]
  },
  {
   "cell_type": "code",
   "execution_count": 216,
   "metadata": {},
   "outputs": [
    {
     "name": "stderr",
     "output_type": "stream",
     "text": [
      "c:\\Users\\Adwait\\anaconda3\\Lib\\site-packages\\spacy\\displacy\\__init__.py:213: UserWarning: [W006] No entities to visualize found in Doc object. If this is surprising to you, make sure the Doc was processed using a model that supports named entity recognition, and check the `doc.ents` property manually if necessary.\n",
      "  warnings.warn(Warnings.W006)\n"
     ]
    },
    {
     "data": {
      "text/html": [
       "<span class=\"tex2jax_ignore\"><div class=\"entities\" style=\"line-height: 2.5; direction: ltr\">I would like to cancel my order</div></span>"
      ],
      "text/plain": [
       "<IPython.core.display.HTML object>"
      ]
     },
     "metadata": {},
     "output_type": "display_data"
    }
   ],
   "source": [
    "doc = nlp_ner(\"I would like to cancel my order\")\n",
    "colors = {\"Quantity\": \"#7DF6D9\", \"Food\":\"#a6e22d\"}\n",
    "options = {\"colors\": colors}\n",
    "spacy.displacy.render(doc, style=\"ent\", options= options, jupyter=True)"
   ]
  },
  {
   "cell_type": "code",
   "execution_count": 240,
   "metadata": {},
   "outputs": [],
   "source": [
    "def test_ner_model(phrases):\n",
    "    \"\"\"\n",
    "    Test the NER model on the provided test data.\n",
    "    \n",
    "    :param model: The spaCy language model\n",
    "    :param test_data: List of dictionaries with 'text' and 'entities'\n",
    "    :return: None\n",
    "    \"\"\"\n",
    "    results = []\n",
    "    \n",
    "    for phrase in phrases:\n",
    "        doc = nlp_ner(phrase)\n",
    "        entities = [(ent.text, ent.start_char, ent.end_char, ent.label_) for ent in doc.ents]\n",
    "        results.append({'text': phrase, 'entities': entities})\n",
    "\n",
    "        colors = {\"Quantity\": \"#7DF6D9\", \"Food\":\"#a6e22d\"}\n",
    "        options = {\"colors\": colors}\n",
    "        spacy.displacy.render(doc, style=\"ent\", options= options, jupyter=True)\n",
    "    \n",
    "    return results"
   ]
  },
  {
   "cell_type": "code",
   "execution_count": 241,
   "metadata": {},
   "outputs": [],
   "source": [
    "testing_data = [\"I'd like a Caesar salad, please.\",\n",
    "\"Can I have two cheeseburgers and a side of fries?\",\n",
    "\"I'd like to order a pepperoni pizza.\",\n",
    "\"Give me three chocolate milkshakes.\",\n",
    "\"I'll take a bowl of tomato soup.\",\n",
    "\"Can I get two large fries and a soda?\",\n",
    "\"I'd like four chicken tacos.\",\n",
    "\"Please bring me a club sandwich.\",\n",
    "\"Can I order a veggie burger with extra cheese?\",\n",
    "\"I'd like one large pepperoni pizza.\",\n",
    "\"Bring me a plate of spaghetti carbonara.\",\n",
    "\"Can I have a bowl of clam chowder?\",\n",
    "\"I'd like a glass of orange juice.\",\n",
    "\"I'll take two orders of fish and chips.\",\n",
    "\"Can I get a side of onion rings?\",\n",
    "\"I'd like a large garden salad.\",\n",
    "\"Please get me a turkey club sandwich.\",\n",
    "\"Can I have three pancakes with maple syrup?\",\n",
    "\"I'd like an order of buffalo wings.\",\n",
    "\"Give me a grilled cheese sandwich.\",\n",
    "\"I'll have a strawberry smoothie.\",\n",
    "\"Can I get two bowls of chili?\",\n",
    "\"I'd like a BLT sandwich.\",\n",
    "\"Please bring me a medium rare steak.\",\n",
    "\"Can I have a large cappuccino?\",\n",
    "\"I'd like three scoops of vanilla ice cream.\",\n",
    "\"Give me an order of nachos with guacamole.\",\n",
    "\"I'll take a ham and cheese omelette.\",\n",
    "\"Can I get a side of mashed potatoes?\",\n",
    "\"I'd like a bowl of mixed fruit.\"]"
   ]
  },
  {
   "cell_type": "code",
   "execution_count": 242,
   "metadata": {},
   "outputs": [
    {
     "data": {
      "text/html": [
       "<span class=\"tex2jax_ignore\"><div class=\"entities\" style=\"line-height: 2.5; direction: ltr\">I'd like a \n",
       "<mark class=\"entity\" style=\"background: #ddd; padding: 0.45em 0.6em; margin: 0 0.25em; line-height: 1; border-radius: 0.35em;\">\n",
       "    Caesar\n",
       "    <span style=\"font-size: 0.8em; font-weight: bold; line-height: 1; border-radius: 0.35em; vertical-align: middle; margin-left: 0.5rem\">Type</span>\n",
       "</mark>\n",
       " \n",
       "<mark class=\"entity\" style=\"background: #a6e22d; padding: 0.45em 0.6em; margin: 0 0.25em; line-height: 1; border-radius: 0.35em;\">\n",
       "    salad\n",
       "    <span style=\"font-size: 0.8em; font-weight: bold; line-height: 1; border-radius: 0.35em; vertical-align: middle; margin-left: 0.5rem\">Food</span>\n",
       "</mark>\n",
       ", please.</div></span>"
      ],
      "text/plain": [
       "<IPython.core.display.HTML object>"
      ]
     },
     "metadata": {},
     "output_type": "display_data"
    },
    {
     "data": {
      "text/html": [
       "<span class=\"tex2jax_ignore\"><div class=\"entities\" style=\"line-height: 2.5; direction: ltr\">Can I have \n",
       "<mark class=\"entity\" style=\"background: #7DF6D9; padding: 0.45em 0.6em; margin: 0 0.25em; line-height: 1; border-radius: 0.35em;\">\n",
       "    two\n",
       "    <span style=\"font-size: 0.8em; font-weight: bold; line-height: 1; border-radius: 0.35em; vertical-align: middle; margin-left: 0.5rem\">Quantity</span>\n",
       "</mark>\n",
       " \n",
       "<mark class=\"entity\" style=\"background: #a6e22d; padding: 0.45em 0.6em; margin: 0 0.25em; line-height: 1; border-radius: 0.35em;\">\n",
       "    cheeseburgers\n",
       "    <span style=\"font-size: 0.8em; font-weight: bold; line-height: 1; border-radius: 0.35em; vertical-align: middle; margin-left: 0.5rem\">Food</span>\n",
       "</mark>\n",
       " and a side of \n",
       "<mark class=\"entity\" style=\"background: #a6e22d; padding: 0.45em 0.6em; margin: 0 0.25em; line-height: 1; border-radius: 0.35em;\">\n",
       "    fries\n",
       "    <span style=\"font-size: 0.8em; font-weight: bold; line-height: 1; border-radius: 0.35em; vertical-align: middle; margin-left: 0.5rem\">Food</span>\n",
       "</mark>\n",
       "?</div></span>"
      ],
      "text/plain": [
       "<IPython.core.display.HTML object>"
      ]
     },
     "metadata": {},
     "output_type": "display_data"
    },
    {
     "data": {
      "text/html": [
       "<span class=\"tex2jax_ignore\"><div class=\"entities\" style=\"line-height: 2.5; direction: ltr\">I'd like to order a \n",
       "<mark class=\"entity\" style=\"background: #ddd; padding: 0.45em 0.6em; margin: 0 0.25em; line-height: 1; border-radius: 0.35em;\">\n",
       "    pepperoni\n",
       "    <span style=\"font-size: 0.8em; font-weight: bold; line-height: 1; border-radius: 0.35em; vertical-align: middle; margin-left: 0.5rem\">Type</span>\n",
       "</mark>\n",
       " \n",
       "<mark class=\"entity\" style=\"background: #a6e22d; padding: 0.45em 0.6em; margin: 0 0.25em; line-height: 1; border-radius: 0.35em;\">\n",
       "    pizza\n",
       "    <span style=\"font-size: 0.8em; font-weight: bold; line-height: 1; border-radius: 0.35em; vertical-align: middle; margin-left: 0.5rem\">Food</span>\n",
       "</mark>\n",
       ".</div></span>"
      ],
      "text/plain": [
       "<IPython.core.display.HTML object>"
      ]
     },
     "metadata": {},
     "output_type": "display_data"
    },
    {
     "data": {
      "text/html": [
       "<span class=\"tex2jax_ignore\"><div class=\"entities\" style=\"line-height: 2.5; direction: ltr\">Give me \n",
       "<mark class=\"entity\" style=\"background: #7DF6D9; padding: 0.45em 0.6em; margin: 0 0.25em; line-height: 1; border-radius: 0.35em;\">\n",
       "    three\n",
       "    <span style=\"font-size: 0.8em; font-weight: bold; line-height: 1; border-radius: 0.35em; vertical-align: middle; margin-left: 0.5rem\">Quantity</span>\n",
       "</mark>\n",
       " \n",
       "<mark class=\"entity\" style=\"background: #a6e22d; padding: 0.45em 0.6em; margin: 0 0.25em; line-height: 1; border-radius: 0.35em;\">\n",
       "    chocolate milkshakes\n",
       "    <span style=\"font-size: 0.8em; font-weight: bold; line-height: 1; border-radius: 0.35em; vertical-align: middle; margin-left: 0.5rem\">Food</span>\n",
       "</mark>\n",
       ".</div></span>"
      ],
      "text/plain": [
       "<IPython.core.display.HTML object>"
      ]
     },
     "metadata": {},
     "output_type": "display_data"
    },
    {
     "data": {
      "text/html": [
       "<span class=\"tex2jax_ignore\"><div class=\"entities\" style=\"line-height: 2.5; direction: ltr\">I'll take \n",
       "<mark class=\"entity\" style=\"background: #7DF6D9; padding: 0.45em 0.6em; margin: 0 0.25em; line-height: 1; border-radius: 0.35em;\">\n",
       "    a\n",
       "    <span style=\"font-size: 0.8em; font-weight: bold; line-height: 1; border-radius: 0.35em; vertical-align: middle; margin-left: 0.5rem\">Quantity</span>\n",
       "</mark>\n",
       " bowl of \n",
       "<mark class=\"entity\" style=\"background: #a6e22d; padding: 0.45em 0.6em; margin: 0 0.25em; line-height: 1; border-radius: 0.35em;\">\n",
       "    tomato soup\n",
       "    <span style=\"font-size: 0.8em; font-weight: bold; line-height: 1; border-radius: 0.35em; vertical-align: middle; margin-left: 0.5rem\">Food</span>\n",
       "</mark>\n",
       ".</div></span>"
      ],
      "text/plain": [
       "<IPython.core.display.HTML object>"
      ]
     },
     "metadata": {},
     "output_type": "display_data"
    },
    {
     "data": {
      "text/html": [
       "<span class=\"tex2jax_ignore\"><div class=\"entities\" style=\"line-height: 2.5; direction: ltr\">Can I get \n",
       "<mark class=\"entity\" style=\"background: #7DF6D9; padding: 0.45em 0.6em; margin: 0 0.25em; line-height: 1; border-radius: 0.35em;\">\n",
       "    two\n",
       "    <span style=\"font-size: 0.8em; font-weight: bold; line-height: 1; border-radius: 0.35em; vertical-align: middle; margin-left: 0.5rem\">Quantity</span>\n",
       "</mark>\n",
       " \n",
       "<mark class=\"entity\" style=\"background: #ddd; padding: 0.45em 0.6em; margin: 0 0.25em; line-height: 1; border-radius: 0.35em;\">\n",
       "    large\n",
       "    <span style=\"font-size: 0.8em; font-weight: bold; line-height: 1; border-radius: 0.35em; vertical-align: middle; margin-left: 0.5rem\">Type</span>\n",
       "</mark>\n",
       " \n",
       "<mark class=\"entity\" style=\"background: #a6e22d; padding: 0.45em 0.6em; margin: 0 0.25em; line-height: 1; border-radius: 0.35em;\">\n",
       "    fries\n",
       "    <span style=\"font-size: 0.8em; font-weight: bold; line-height: 1; border-radius: 0.35em; vertical-align: middle; margin-left: 0.5rem\">Food</span>\n",
       "</mark>\n",
       " and a \n",
       "<mark class=\"entity\" style=\"background: #a6e22d; padding: 0.45em 0.6em; margin: 0 0.25em; line-height: 1; border-radius: 0.35em;\">\n",
       "    soda\n",
       "    <span style=\"font-size: 0.8em; font-weight: bold; line-height: 1; border-radius: 0.35em; vertical-align: middle; margin-left: 0.5rem\">Food</span>\n",
       "</mark>\n",
       "?</div></span>"
      ],
      "text/plain": [
       "<IPython.core.display.HTML object>"
      ]
     },
     "metadata": {},
     "output_type": "display_data"
    },
    {
     "data": {
      "text/html": [
       "<span class=\"tex2jax_ignore\"><div class=\"entities\" style=\"line-height: 2.5; direction: ltr\">I'd like \n",
       "<mark class=\"entity\" style=\"background: #7DF6D9; padding: 0.45em 0.6em; margin: 0 0.25em; line-height: 1; border-radius: 0.35em;\">\n",
       "    four\n",
       "    <span style=\"font-size: 0.8em; font-weight: bold; line-height: 1; border-radius: 0.35em; vertical-align: middle; margin-left: 0.5rem\">Quantity</span>\n",
       "</mark>\n",
       " \n",
       "<mark class=\"entity\" style=\"background: #a6e22d; padding: 0.45em 0.6em; margin: 0 0.25em; line-height: 1; border-radius: 0.35em;\">\n",
       "    chicken tacos\n",
       "    <span style=\"font-size: 0.8em; font-weight: bold; line-height: 1; border-radius: 0.35em; vertical-align: middle; margin-left: 0.5rem\">Food</span>\n",
       "</mark>\n",
       ".</div></span>"
      ],
      "text/plain": [
       "<IPython.core.display.HTML object>"
      ]
     },
     "metadata": {},
     "output_type": "display_data"
    },
    {
     "data": {
      "text/html": [
       "<span class=\"tex2jax_ignore\"><div class=\"entities\" style=\"line-height: 2.5; direction: ltr\">Please bring me a \n",
       "<mark class=\"entity\" style=\"background: #a6e22d; padding: 0.45em 0.6em; margin: 0 0.25em; line-height: 1; border-radius: 0.35em;\">\n",
       "    club sandwich\n",
       "    <span style=\"font-size: 0.8em; font-weight: bold; line-height: 1; border-radius: 0.35em; vertical-align: middle; margin-left: 0.5rem\">Food</span>\n",
       "</mark>\n",
       ".</div></span>"
      ],
      "text/plain": [
       "<IPython.core.display.HTML object>"
      ]
     },
     "metadata": {},
     "output_type": "display_data"
    },
    {
     "data": {
      "text/html": [
       "<span class=\"tex2jax_ignore\"><div class=\"entities\" style=\"line-height: 2.5; direction: ltr\">Can I order a \n",
       "<mark class=\"entity\" style=\"background: #ddd; padding: 0.45em 0.6em; margin: 0 0.25em; line-height: 1; border-radius: 0.35em;\">\n",
       "    veggie\n",
       "    <span style=\"font-size: 0.8em; font-weight: bold; line-height: 1; border-radius: 0.35em; vertical-align: middle; margin-left: 0.5rem\">Type</span>\n",
       "</mark>\n",
       " \n",
       "<mark class=\"entity\" style=\"background: #a6e22d; padding: 0.45em 0.6em; margin: 0 0.25em; line-height: 1; border-radius: 0.35em;\">\n",
       "    burger\n",
       "    <span style=\"font-size: 0.8em; font-weight: bold; line-height: 1; border-radius: 0.35em; vertical-align: middle; margin-left: 0.5rem\">Food</span>\n",
       "</mark>\n",
       " with extra \n",
       "<mark class=\"entity\" style=\"background: #a6e22d; padding: 0.45em 0.6em; margin: 0 0.25em; line-height: 1; border-radius: 0.35em;\">\n",
       "    cheese\n",
       "    <span style=\"font-size: 0.8em; font-weight: bold; line-height: 1; border-radius: 0.35em; vertical-align: middle; margin-left: 0.5rem\">Food</span>\n",
       "</mark>\n",
       "?</div></span>"
      ],
      "text/plain": [
       "<IPython.core.display.HTML object>"
      ]
     },
     "metadata": {},
     "output_type": "display_data"
    },
    {
     "data": {
      "text/html": [
       "<span class=\"tex2jax_ignore\"><div class=\"entities\" style=\"line-height: 2.5; direction: ltr\">I'd like one large \n",
       "<mark class=\"entity\" style=\"background: #ddd; padding: 0.45em 0.6em; margin: 0 0.25em; line-height: 1; border-radius: 0.35em;\">\n",
       "    pepperoni\n",
       "    <span style=\"font-size: 0.8em; font-weight: bold; line-height: 1; border-radius: 0.35em; vertical-align: middle; margin-left: 0.5rem\">Type</span>\n",
       "</mark>\n",
       " \n",
       "<mark class=\"entity\" style=\"background: #a6e22d; padding: 0.45em 0.6em; margin: 0 0.25em; line-height: 1; border-radius: 0.35em;\">\n",
       "    pizza\n",
       "    <span style=\"font-size: 0.8em; font-weight: bold; line-height: 1; border-radius: 0.35em; vertical-align: middle; margin-left: 0.5rem\">Food</span>\n",
       "</mark>\n",
       ".</div></span>"
      ],
      "text/plain": [
       "<IPython.core.display.HTML object>"
      ]
     },
     "metadata": {},
     "output_type": "display_data"
    },
    {
     "data": {
      "text/html": [
       "<span class=\"tex2jax_ignore\"><div class=\"entities\" style=\"line-height: 2.5; direction: ltr\">Bring me \n",
       "<mark class=\"entity\" style=\"background: #7DF6D9; padding: 0.45em 0.6em; margin: 0 0.25em; line-height: 1; border-radius: 0.35em;\">\n",
       "    a\n",
       "    <span style=\"font-size: 0.8em; font-weight: bold; line-height: 1; border-radius: 0.35em; vertical-align: middle; margin-left: 0.5rem\">Quantity</span>\n",
       "</mark>\n",
       " \n",
       "<mark class=\"entity\" style=\"background: #ddd; padding: 0.45em 0.6em; margin: 0 0.25em; line-height: 1; border-radius: 0.35em;\">\n",
       "    plate\n",
       "    <span style=\"font-size: 0.8em; font-weight: bold; line-height: 1; border-radius: 0.35em; vertical-align: middle; margin-left: 0.5rem\">Type</span>\n",
       "</mark>\n",
       " of \n",
       "<mark class=\"entity\" style=\"background: #a6e22d; padding: 0.45em 0.6em; margin: 0 0.25em; line-height: 1; border-radius: 0.35em;\">\n",
       "    spaghetti carbonara\n",
       "    <span style=\"font-size: 0.8em; font-weight: bold; line-height: 1; border-radius: 0.35em; vertical-align: middle; margin-left: 0.5rem\">Food</span>\n",
       "</mark>\n",
       ".</div></span>"
      ],
      "text/plain": [
       "<IPython.core.display.HTML object>"
      ]
     },
     "metadata": {},
     "output_type": "display_data"
    },
    {
     "data": {
      "text/html": [
       "<span class=\"tex2jax_ignore\"><div class=\"entities\" style=\"line-height: 2.5; direction: ltr\">Can I have \n",
       "<mark class=\"entity\" style=\"background: #7DF6D9; padding: 0.45em 0.6em; margin: 0 0.25em; line-height: 1; border-radius: 0.35em;\">\n",
       "    a\n",
       "    <span style=\"font-size: 0.8em; font-weight: bold; line-height: 1; border-radius: 0.35em; vertical-align: middle; margin-left: 0.5rem\">Quantity</span>\n",
       "</mark>\n",
       " bowl of \n",
       "<mark class=\"entity\" style=\"background: #a6e22d; padding: 0.45em 0.6em; margin: 0 0.25em; line-height: 1; border-radius: 0.35em;\">\n",
       "    clam chowder\n",
       "    <span style=\"font-size: 0.8em; font-weight: bold; line-height: 1; border-radius: 0.35em; vertical-align: middle; margin-left: 0.5rem\">Food</span>\n",
       "</mark>\n",
       "?</div></span>"
      ],
      "text/plain": [
       "<IPython.core.display.HTML object>"
      ]
     },
     "metadata": {},
     "output_type": "display_data"
    },
    {
     "data": {
      "text/html": [
       "<span class=\"tex2jax_ignore\"><div class=\"entities\" style=\"line-height: 2.5; direction: ltr\">I'd like \n",
       "<mark class=\"entity\" style=\"background: #7DF6D9; padding: 0.45em 0.6em; margin: 0 0.25em; line-height: 1; border-radius: 0.35em;\">\n",
       "    a\n",
       "    <span style=\"font-size: 0.8em; font-weight: bold; line-height: 1; border-radius: 0.35em; vertical-align: middle; margin-left: 0.5rem\">Quantity</span>\n",
       "</mark>\n",
       " \n",
       "<mark class=\"entity\" style=\"background: #ddd; padding: 0.45em 0.6em; margin: 0 0.25em; line-height: 1; border-radius: 0.35em;\">\n",
       "    glass\n",
       "    <span style=\"font-size: 0.8em; font-weight: bold; line-height: 1; border-radius: 0.35em; vertical-align: middle; margin-left: 0.5rem\">Type</span>\n",
       "</mark>\n",
       " of \n",
       "<mark class=\"entity\" style=\"background: #a6e22d; padding: 0.45em 0.6em; margin: 0 0.25em; line-height: 1; border-radius: 0.35em;\">\n",
       "    orange juice\n",
       "    <span style=\"font-size: 0.8em; font-weight: bold; line-height: 1; border-radius: 0.35em; vertical-align: middle; margin-left: 0.5rem\">Food</span>\n",
       "</mark>\n",
       ".</div></span>"
      ],
      "text/plain": [
       "<IPython.core.display.HTML object>"
      ]
     },
     "metadata": {},
     "output_type": "display_data"
    },
    {
     "data": {
      "text/html": [
       "<span class=\"tex2jax_ignore\"><div class=\"entities\" style=\"line-height: 2.5; direction: ltr\">I'll take \n",
       "<mark class=\"entity\" style=\"background: #7DF6D9; padding: 0.45em 0.6em; margin: 0 0.25em; line-height: 1; border-radius: 0.35em;\">\n",
       "    two\n",
       "    <span style=\"font-size: 0.8em; font-weight: bold; line-height: 1; border-radius: 0.35em; vertical-align: middle; margin-left: 0.5rem\">Quantity</span>\n",
       "</mark>\n",
       " orders of \n",
       "<mark class=\"entity\" style=\"background: #a6e22d; padding: 0.45em 0.6em; margin: 0 0.25em; line-height: 1; border-radius: 0.35em;\">\n",
       "    fish\n",
       "    <span style=\"font-size: 0.8em; font-weight: bold; line-height: 1; border-radius: 0.35em; vertical-align: middle; margin-left: 0.5rem\">Food</span>\n",
       "</mark>\n",
       " and \n",
       "<mark class=\"entity\" style=\"background: #a6e22d; padding: 0.45em 0.6em; margin: 0 0.25em; line-height: 1; border-radius: 0.35em;\">\n",
       "    chips\n",
       "    <span style=\"font-size: 0.8em; font-weight: bold; line-height: 1; border-radius: 0.35em; vertical-align: middle; margin-left: 0.5rem\">Food</span>\n",
       "</mark>\n",
       ".</div></span>"
      ],
      "text/plain": [
       "<IPython.core.display.HTML object>"
      ]
     },
     "metadata": {},
     "output_type": "display_data"
    },
    {
     "data": {
      "text/html": [
       "<span class=\"tex2jax_ignore\"><div class=\"entities\" style=\"line-height: 2.5; direction: ltr\">Can I get \n",
       "<mark class=\"entity\" style=\"background: #7DF6D9; padding: 0.45em 0.6em; margin: 0 0.25em; line-height: 1; border-radius: 0.35em;\">\n",
       "    a\n",
       "    <span style=\"font-size: 0.8em; font-weight: bold; line-height: 1; border-radius: 0.35em; vertical-align: middle; margin-left: 0.5rem\">Quantity</span>\n",
       "</mark>\n",
       " side of \n",
       "<mark class=\"entity\" style=\"background: #a6e22d; padding: 0.45em 0.6em; margin: 0 0.25em; line-height: 1; border-radius: 0.35em;\">\n",
       "    onion rings\n",
       "    <span style=\"font-size: 0.8em; font-weight: bold; line-height: 1; border-radius: 0.35em; vertical-align: middle; margin-left: 0.5rem\">Food</span>\n",
       "</mark>\n",
       "?</div></span>"
      ],
      "text/plain": [
       "<IPython.core.display.HTML object>"
      ]
     },
     "metadata": {},
     "output_type": "display_data"
    },
    {
     "data": {
      "text/html": [
       "<span class=\"tex2jax_ignore\"><div class=\"entities\" style=\"line-height: 2.5; direction: ltr\">I'd like \n",
       "<mark class=\"entity\" style=\"background: #7DF6D9; padding: 0.45em 0.6em; margin: 0 0.25em; line-height: 1; border-radius: 0.35em;\">\n",
       "    a\n",
       "    <span style=\"font-size: 0.8em; font-weight: bold; line-height: 1; border-radius: 0.35em; vertical-align: middle; margin-left: 0.5rem\">Quantity</span>\n",
       "</mark>\n",
       " \n",
       "<mark class=\"entity\" style=\"background: #ddd; padding: 0.45em 0.6em; margin: 0 0.25em; line-height: 1; border-radius: 0.35em;\">\n",
       "    large\n",
       "    <span style=\"font-size: 0.8em; font-weight: bold; line-height: 1; border-radius: 0.35em; vertical-align: middle; margin-left: 0.5rem\">Type</span>\n",
       "</mark>\n",
       " \n",
       "<mark class=\"entity\" style=\"background: #ddd; padding: 0.45em 0.6em; margin: 0 0.25em; line-height: 1; border-radius: 0.35em;\">\n",
       "    garden\n",
       "    <span style=\"font-size: 0.8em; font-weight: bold; line-height: 1; border-radius: 0.35em; vertical-align: middle; margin-left: 0.5rem\">Type</span>\n",
       "</mark>\n",
       " \n",
       "<mark class=\"entity\" style=\"background: #a6e22d; padding: 0.45em 0.6em; margin: 0 0.25em; line-height: 1; border-radius: 0.35em;\">\n",
       "    salad\n",
       "    <span style=\"font-size: 0.8em; font-weight: bold; line-height: 1; border-radius: 0.35em; vertical-align: middle; margin-left: 0.5rem\">Food</span>\n",
       "</mark>\n",
       ".</div></span>"
      ],
      "text/plain": [
       "<IPython.core.display.HTML object>"
      ]
     },
     "metadata": {},
     "output_type": "display_data"
    },
    {
     "data": {
      "text/html": [
       "<span class=\"tex2jax_ignore\"><div class=\"entities\" style=\"line-height: 2.5; direction: ltr\">Please get me a \n",
       "<mark class=\"entity\" style=\"background: #a6e22d; padding: 0.45em 0.6em; margin: 0 0.25em; line-height: 1; border-radius: 0.35em;\">\n",
       "    turkey club sandwich\n",
       "    <span style=\"font-size: 0.8em; font-weight: bold; line-height: 1; border-radius: 0.35em; vertical-align: middle; margin-left: 0.5rem\">Food</span>\n",
       "</mark>\n",
       ".</div></span>"
      ],
      "text/plain": [
       "<IPython.core.display.HTML object>"
      ]
     },
     "metadata": {},
     "output_type": "display_data"
    },
    {
     "data": {
      "text/html": [
       "<span class=\"tex2jax_ignore\"><div class=\"entities\" style=\"line-height: 2.5; direction: ltr\">Can I have \n",
       "<mark class=\"entity\" style=\"background: #7DF6D9; padding: 0.45em 0.6em; margin: 0 0.25em; line-height: 1; border-radius: 0.35em;\">\n",
       "    three\n",
       "    <span style=\"font-size: 0.8em; font-weight: bold; line-height: 1; border-radius: 0.35em; vertical-align: middle; margin-left: 0.5rem\">Quantity</span>\n",
       "</mark>\n",
       " \n",
       "<mark class=\"entity\" style=\"background: #a6e22d; padding: 0.45em 0.6em; margin: 0 0.25em; line-height: 1; border-radius: 0.35em;\">\n",
       "    pancakes\n",
       "    <span style=\"font-size: 0.8em; font-weight: bold; line-height: 1; border-radius: 0.35em; vertical-align: middle; margin-left: 0.5rem\">Food</span>\n",
       "</mark>\n",
       " with \n",
       "<mark class=\"entity\" style=\"background: #a6e22d; padding: 0.45em 0.6em; margin: 0 0.25em; line-height: 1; border-radius: 0.35em;\">\n",
       "    maple syrup\n",
       "    <span style=\"font-size: 0.8em; font-weight: bold; line-height: 1; border-radius: 0.35em; vertical-align: middle; margin-left: 0.5rem\">Food</span>\n",
       "</mark>\n",
       "?</div></span>"
      ],
      "text/plain": [
       "<IPython.core.display.HTML object>"
      ]
     },
     "metadata": {},
     "output_type": "display_data"
    },
    {
     "data": {
      "text/html": [
       "<span class=\"tex2jax_ignore\"><div class=\"entities\" style=\"line-height: 2.5; direction: ltr\">I'd like \n",
       "<mark class=\"entity\" style=\"background: #7DF6D9; padding: 0.45em 0.6em; margin: 0 0.25em; line-height: 1; border-radius: 0.35em;\">\n",
       "    an\n",
       "    <span style=\"font-size: 0.8em; font-weight: bold; line-height: 1; border-radius: 0.35em; vertical-align: middle; margin-left: 0.5rem\">Quantity</span>\n",
       "</mark>\n",
       " order of \n",
       "<mark class=\"entity\" style=\"background: #a6e22d; padding: 0.45em 0.6em; margin: 0 0.25em; line-height: 1; border-radius: 0.35em;\">\n",
       "    buffalo wings\n",
       "    <span style=\"font-size: 0.8em; font-weight: bold; line-height: 1; border-radius: 0.35em; vertical-align: middle; margin-left: 0.5rem\">Food</span>\n",
       "</mark>\n",
       ".</div></span>"
      ],
      "text/plain": [
       "<IPython.core.display.HTML object>"
      ]
     },
     "metadata": {},
     "output_type": "display_data"
    },
    {
     "data": {
      "text/html": [
       "<span class=\"tex2jax_ignore\"><div class=\"entities\" style=\"line-height: 2.5; direction: ltr\">Give me a \n",
       "<mark class=\"entity\" style=\"background: #ddd; padding: 0.45em 0.6em; margin: 0 0.25em; line-height: 1; border-radius: 0.35em;\">\n",
       "    grilled cheese\n",
       "    <span style=\"font-size: 0.8em; font-weight: bold; line-height: 1; border-radius: 0.35em; vertical-align: middle; margin-left: 0.5rem\">Type</span>\n",
       "</mark>\n",
       " \n",
       "<mark class=\"entity\" style=\"background: #a6e22d; padding: 0.45em 0.6em; margin: 0 0.25em; line-height: 1; border-radius: 0.35em;\">\n",
       "    sandwich\n",
       "    <span style=\"font-size: 0.8em; font-weight: bold; line-height: 1; border-radius: 0.35em; vertical-align: middle; margin-left: 0.5rem\">Food</span>\n",
       "</mark>\n",
       ".</div></span>"
      ],
      "text/plain": [
       "<IPython.core.display.HTML object>"
      ]
     },
     "metadata": {},
     "output_type": "display_data"
    },
    {
     "data": {
      "text/html": [
       "<span class=\"tex2jax_ignore\"><div class=\"entities\" style=\"line-height: 2.5; direction: ltr\">I'll have a \n",
       "<mark class=\"entity\" style=\"background: #a6e22d; padding: 0.45em 0.6em; margin: 0 0.25em; line-height: 1; border-radius: 0.35em;\">\n",
       "    strawberry smoothie\n",
       "    <span style=\"font-size: 0.8em; font-weight: bold; line-height: 1; border-radius: 0.35em; vertical-align: middle; margin-left: 0.5rem\">Food</span>\n",
       "</mark>\n",
       ".</div></span>"
      ],
      "text/plain": [
       "<IPython.core.display.HTML object>"
      ]
     },
     "metadata": {},
     "output_type": "display_data"
    },
    {
     "data": {
      "text/html": [
       "<span class=\"tex2jax_ignore\"><div class=\"entities\" style=\"line-height: 2.5; direction: ltr\">Can I get \n",
       "<mark class=\"entity\" style=\"background: #7DF6D9; padding: 0.45em 0.6em; margin: 0 0.25em; line-height: 1; border-radius: 0.35em;\">\n",
       "    two\n",
       "    <span style=\"font-size: 0.8em; font-weight: bold; line-height: 1; border-radius: 0.35em; vertical-align: middle; margin-left: 0.5rem\">Quantity</span>\n",
       "</mark>\n",
       " bowls of \n",
       "<mark class=\"entity\" style=\"background: #a6e22d; padding: 0.45em 0.6em; margin: 0 0.25em; line-height: 1; border-radius: 0.35em;\">\n",
       "    chili\n",
       "    <span style=\"font-size: 0.8em; font-weight: bold; line-height: 1; border-radius: 0.35em; vertical-align: middle; margin-left: 0.5rem\">Food</span>\n",
       "</mark>\n",
       "?</div></span>"
      ],
      "text/plain": [
       "<IPython.core.display.HTML object>"
      ]
     },
     "metadata": {},
     "output_type": "display_data"
    },
    {
     "data": {
      "text/html": [
       "<span class=\"tex2jax_ignore\"><div class=\"entities\" style=\"line-height: 2.5; direction: ltr\">I'd like a \n",
       "<mark class=\"entity\" style=\"background: #a6e22d; padding: 0.45em 0.6em; margin: 0 0.25em; line-height: 1; border-radius: 0.35em;\">\n",
       "    BLT sandwich\n",
       "    <span style=\"font-size: 0.8em; font-weight: bold; line-height: 1; border-radius: 0.35em; vertical-align: middle; margin-left: 0.5rem\">Food</span>\n",
       "</mark>\n",
       ".</div></span>"
      ],
      "text/plain": [
       "<IPython.core.display.HTML object>"
      ]
     },
     "metadata": {},
     "output_type": "display_data"
    },
    {
     "data": {
      "text/html": [
       "<span class=\"tex2jax_ignore\"><div class=\"entities\" style=\"line-height: 2.5; direction: ltr\">Please bring me \n",
       "<mark class=\"entity\" style=\"background: #7DF6D9; padding: 0.45em 0.6em; margin: 0 0.25em; line-height: 1; border-radius: 0.35em;\">\n",
       "    a\n",
       "    <span style=\"font-size: 0.8em; font-weight: bold; line-height: 1; border-radius: 0.35em; vertical-align: middle; margin-left: 0.5rem\">Quantity</span>\n",
       "</mark>\n",
       " \n",
       "<mark class=\"entity\" style=\"background: #ddd; padding: 0.45em 0.6em; margin: 0 0.25em; line-height: 1; border-radius: 0.35em;\">\n",
       "    medium\n",
       "    <span style=\"font-size: 0.8em; font-weight: bold; line-height: 1; border-radius: 0.35em; vertical-align: middle; margin-left: 0.5rem\">Type</span>\n",
       "</mark>\n",
       " rare \n",
       "<mark class=\"entity\" style=\"background: #a6e22d; padding: 0.45em 0.6em; margin: 0 0.25em; line-height: 1; border-radius: 0.35em;\">\n",
       "    steak\n",
       "    <span style=\"font-size: 0.8em; font-weight: bold; line-height: 1; border-radius: 0.35em; vertical-align: middle; margin-left: 0.5rem\">Food</span>\n",
       "</mark>\n",
       ".</div></span>"
      ],
      "text/plain": [
       "<IPython.core.display.HTML object>"
      ]
     },
     "metadata": {},
     "output_type": "display_data"
    },
    {
     "data": {
      "text/html": [
       "<span class=\"tex2jax_ignore\"><div class=\"entities\" style=\"line-height: 2.5; direction: ltr\">Can I have a \n",
       "<mark class=\"entity\" style=\"background: #ddd; padding: 0.45em 0.6em; margin: 0 0.25em; line-height: 1; border-radius: 0.35em;\">\n",
       "    large\n",
       "    <span style=\"font-size: 0.8em; font-weight: bold; line-height: 1; border-radius: 0.35em; vertical-align: middle; margin-left: 0.5rem\">Type</span>\n",
       "</mark>\n",
       " \n",
       "<mark class=\"entity\" style=\"background: #a6e22d; padding: 0.45em 0.6em; margin: 0 0.25em; line-height: 1; border-radius: 0.35em;\">\n",
       "    cappuccino\n",
       "    <span style=\"font-size: 0.8em; font-weight: bold; line-height: 1; border-radius: 0.35em; vertical-align: middle; margin-left: 0.5rem\">Food</span>\n",
       "</mark>\n",
       "?</div></span>"
      ],
      "text/plain": [
       "<IPython.core.display.HTML object>"
      ]
     },
     "metadata": {},
     "output_type": "display_data"
    },
    {
     "data": {
      "text/html": [
       "<span class=\"tex2jax_ignore\"><div class=\"entities\" style=\"line-height: 2.5; direction: ltr\">I'd like \n",
       "<mark class=\"entity\" style=\"background: #7DF6D9; padding: 0.45em 0.6em; margin: 0 0.25em; line-height: 1; border-radius: 0.35em;\">\n",
       "    three\n",
       "    <span style=\"font-size: 0.8em; font-weight: bold; line-height: 1; border-radius: 0.35em; vertical-align: middle; margin-left: 0.5rem\">Quantity</span>\n",
       "</mark>\n",
       " scoops of \n",
       "<mark class=\"entity\" style=\"background: #a6e22d; padding: 0.45em 0.6em; margin: 0 0.25em; line-height: 1; border-radius: 0.35em;\">\n",
       "    vanilla ice cream\n",
       "    <span style=\"font-size: 0.8em; font-weight: bold; line-height: 1; border-radius: 0.35em; vertical-align: middle; margin-left: 0.5rem\">Food</span>\n",
       "</mark>\n",
       ".</div></span>"
      ],
      "text/plain": [
       "<IPython.core.display.HTML object>"
      ]
     },
     "metadata": {},
     "output_type": "display_data"
    },
    {
     "data": {
      "text/html": [
       "<span class=\"tex2jax_ignore\"><div class=\"entities\" style=\"line-height: 2.5; direction: ltr\">Give me an order of \n",
       "<mark class=\"entity\" style=\"background: #a6e22d; padding: 0.45em 0.6em; margin: 0 0.25em; line-height: 1; border-radius: 0.35em;\">\n",
       "    nachos\n",
       "    <span style=\"font-size: 0.8em; font-weight: bold; line-height: 1; border-radius: 0.35em; vertical-align: middle; margin-left: 0.5rem\">Food</span>\n",
       "</mark>\n",
       " with \n",
       "<mark class=\"entity\" style=\"background: #a6e22d; padding: 0.45em 0.6em; margin: 0 0.25em; line-height: 1; border-radius: 0.35em;\">\n",
       "    guacamole\n",
       "    <span style=\"font-size: 0.8em; font-weight: bold; line-height: 1; border-radius: 0.35em; vertical-align: middle; margin-left: 0.5rem\">Food</span>\n",
       "</mark>\n",
       ".</div></span>"
      ],
      "text/plain": [
       "<IPython.core.display.HTML object>"
      ]
     },
     "metadata": {},
     "output_type": "display_data"
    },
    {
     "data": {
      "text/html": [
       "<span class=\"tex2jax_ignore\"><div class=\"entities\" style=\"line-height: 2.5; direction: ltr\">I'll take a \n",
       "<mark class=\"entity\" style=\"background: #a6e22d; padding: 0.45em 0.6em; margin: 0 0.25em; line-height: 1; border-radius: 0.35em;\">\n",
       "    ham\n",
       "    <span style=\"font-size: 0.8em; font-weight: bold; line-height: 1; border-radius: 0.35em; vertical-align: middle; margin-left: 0.5rem\">Food</span>\n",
       "</mark>\n",
       " and cheese \n",
       "<mark class=\"entity\" style=\"background: #a6e22d; padding: 0.45em 0.6em; margin: 0 0.25em; line-height: 1; border-radius: 0.35em;\">\n",
       "    omelette\n",
       "    <span style=\"font-size: 0.8em; font-weight: bold; line-height: 1; border-radius: 0.35em; vertical-align: middle; margin-left: 0.5rem\">Food</span>\n",
       "</mark>\n",
       ".</div></span>"
      ],
      "text/plain": [
       "<IPython.core.display.HTML object>"
      ]
     },
     "metadata": {},
     "output_type": "display_data"
    },
    {
     "data": {
      "text/html": [
       "<span class=\"tex2jax_ignore\"><div class=\"entities\" style=\"line-height: 2.5; direction: ltr\">Can I get \n",
       "<mark class=\"entity\" style=\"background: #7DF6D9; padding: 0.45em 0.6em; margin: 0 0.25em; line-height: 1; border-radius: 0.35em;\">\n",
       "    a\n",
       "    <span style=\"font-size: 0.8em; font-weight: bold; line-height: 1; border-radius: 0.35em; vertical-align: middle; margin-left: 0.5rem\">Quantity</span>\n",
       "</mark>\n",
       " side of \n",
       "<mark class=\"entity\" style=\"background: #a6e22d; padding: 0.45em 0.6em; margin: 0 0.25em; line-height: 1; border-radius: 0.35em;\">\n",
       "    mashed potatoes\n",
       "    <span style=\"font-size: 0.8em; font-weight: bold; line-height: 1; border-radius: 0.35em; vertical-align: middle; margin-left: 0.5rem\">Food</span>\n",
       "</mark>\n",
       "?</div></span>"
      ],
      "text/plain": [
       "<IPython.core.display.HTML object>"
      ]
     },
     "metadata": {},
     "output_type": "display_data"
    },
    {
     "data": {
      "text/html": [
       "<span class=\"tex2jax_ignore\"><div class=\"entities\" style=\"line-height: 2.5; direction: ltr\">I'd like \n",
       "<mark class=\"entity\" style=\"background: #7DF6D9; padding: 0.45em 0.6em; margin: 0 0.25em; line-height: 1; border-radius: 0.35em;\">\n",
       "    a\n",
       "    <span style=\"font-size: 0.8em; font-weight: bold; line-height: 1; border-radius: 0.35em; vertical-align: middle; margin-left: 0.5rem\">Quantity</span>\n",
       "</mark>\n",
       " bowl of \n",
       "<mark class=\"entity\" style=\"background: #a6e22d; padding: 0.45em 0.6em; margin: 0 0.25em; line-height: 1; border-radius: 0.35em;\">\n",
       "    mixed fruit\n",
       "    <span style=\"font-size: 0.8em; font-weight: bold; line-height: 1; border-radius: 0.35em; vertical-align: middle; margin-left: 0.5rem\">Food</span>\n",
       "</mark>\n",
       ".</div></span>"
      ],
      "text/plain": [
       "<IPython.core.display.HTML object>"
      ]
     },
     "metadata": {},
     "output_type": "display_data"
    }
   ],
   "source": [
    "test_results = test_ner_model(testing_data)"
   ]
  }
 ],
 "metadata": {
  "colab": {
   "name": "Spacy Custom NER: Youtube.ipynb",
   "provenance": []
  },
  "kernelspec": {
   "display_name": "Python 3 (ipykernel)",
   "language": "python",
   "name": "python3"
  },
  "language_info": {
   "codemirror_mode": {
    "name": "ipython",
    "version": 3
   },
   "file_extension": ".py",
   "mimetype": "text/x-python",
   "name": "python",
   "nbconvert_exporter": "python",
   "pygments_lexer": "ipython3",
   "version": "3.11.3"
  }
 },
 "nbformat": 4,
 "nbformat_minor": 4
}
